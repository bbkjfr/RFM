{
 "cells": [
  {
   "cell_type": "code",
   "execution_count": 1,
   "id": "39332783",
   "metadata": {},
   "outputs": [],
   "source": [
    "import numpy as np\n",
    "import pandas as pd\n",
    "import datetime as dt\n",
    "import sqlalchemy as sa\n",
    "import seaborn as sns\n",
    "import sqlalchemy.types\n",
    "from datetime import timedelta\n",
    "import matplotlib.pyplot as plt\n",
    "from sqlalchemy.engine import URL\n",
    "from sqlalchemy import create_engine\n",
    "from sqlalchemy.engine import reflection"
   ]
  },
  {
   "cell_type": "markdown",
   "id": "c6ce2720",
   "metadata": {},
   "source": [
    "connection_string = 'DRIVER={ODBC Driver 17 for sql server};SERVER=BI-SQL;DATABASE=ZSDBillingDoc_BillingItm;UID=sa;PWD=1qazXSW@'\n",
    "\n",
    "connection_url = URL.create(\"mssql+pyodbc\", query={\"odbc_connect\": connection_string})\n",
    "\n",
    "engine = create_engine(connection_url,pool_size=10, max_overflow=20)\n",
    "\n",
    " \n",
    "with engine.begin() as conn:\n",
    "    df = pd.read_sql_query(sa.text('SELECT [BILLDOC],[BILLTOPARTY],[DOCDATE],SUM([Calc_NETAMOUNT_Absolute_Final]) as SalesAmount FROM [ZSDBillingDoc_BillingItm].[dbo].[/BIC/OHZSDBILMHB] GROUP BY [BILLDOC] ,[BILLTOPARTY],[DOCDATE]'), conn)\n",
    "\n",
    "df.to_csv('RFM-Data')    \n",
    "conn.close()"
   ]
  },
  {
   "cell_type": "code",
   "execution_count": 2,
   "id": "d6b4e49f",
   "metadata": {
    "scrolled": true
   },
   "outputs": [],
   "source": [
    "df=pd.read_csv(r'C:\\Users\\b-jafari.ZARMACARON\\Notebooks\\Marketing Data Analysis\\RFM-Data')"
   ]
  },
  {
   "cell_type": "code",
   "execution_count": 3,
   "id": "ec0995b2",
   "metadata": {
    "scrolled": false
   },
   "outputs": [],
   "source": [
    "df=df.drop('Unnamed: 0',axis=1)\n"
   ]
  },
  {
   "cell_type": "code",
   "execution_count": 4,
   "id": "c8d3574c",
   "metadata": {},
   "outputs": [],
   "source": [
    "df['DOCDATE'] = pd.to_datetime(df['DOCDATE'].astype(str), format='%Y%m%d')"
   ]
  },
  {
   "cell_type": "code",
   "execution_count": 5,
   "id": "76563235",
   "metadata": {},
   "outputs": [],
   "source": [
    "df[['BILLDOC','BILLTOPARTY']]=df[['BILLDOC','BILLTOPARTY']].astype('category')"
   ]
  },
  {
   "cell_type": "code",
   "execution_count": 6,
   "id": "7b9070d0",
   "metadata": {},
   "outputs": [],
   "source": [
    "#df['DOCDATE'] = pd.to_datetime(df['DOCDATE'], errors='coerce')"
   ]
  },
  {
   "cell_type": "code",
   "execution_count": 7,
   "id": "35806f45",
   "metadata": {},
   "outputs": [],
   "source": [
    "df=df[df['DOCDATE'] != '1762-03-13']"
   ]
  },
  {
   "cell_type": "code",
   "execution_count": 8,
   "id": "a7f866a0",
   "metadata": {},
   "outputs": [],
   "source": [
    "pd.set_option('display.float_format','{:}'.format)"
   ]
  },
  {
   "cell_type": "code",
   "execution_count": 9,
   "id": "9fea116b",
   "metadata": {},
   "outputs": [],
   "source": [
    "maxdate=df.DOCDATE.max()+timedelta(days=1)"
   ]
  },
  {
   "cell_type": "code",
   "execution_count": 10,
   "id": "aaabb985",
   "metadata": {},
   "outputs": [],
   "source": [
    "dt=df.groupby('BILLTOPARTY').agg({\n",
    "    'SalesAmount' : lambda x : x.sum() , \n",
    "    'DOCDATE' :lambda x: (maxdate- x.max()).days,\n",
    "    'BILLDOC' : lambda x : x.nunique()\n",
    "}).reset_index()\n",
    "\n"
   ]
  },
  {
   "cell_type": "code",
   "execution_count": 11,
   "id": "4d1838bc",
   "metadata": {},
   "outputs": [],
   "source": [
    "dt.rename(columns={'SalesAmount': 'Monetary', 'DOCDATE': 'Recency', 'BILLDOC': 'Frequency'}, inplace=True)\n"
   ]
  },
  {
   "cell_type": "code",
   "execution_count": 12,
   "id": "f64586d2",
   "metadata": {},
   "outputs": [],
   "source": [
    "dt['MNFR']=dt['Monetary']*dt['Frequency']"
   ]
  },
  {
   "cell_type": "code",
   "execution_count": 13,
   "id": "63ccc6be",
   "metadata": {},
   "outputs": [
    {
     "name": "stderr",
     "output_type": "stream",
     "text": [
      "C:\\Users\\b-jafari.ZARMACARON\\AppData\\Local\\Temp\\2\\ipykernel_118356\\3777026450.py:1: FutureWarning: The default value of numeric_only in DataFrame.quantile is deprecated. In a future version, it will default to False. Select only valid columns or specify the value of numeric_only to silence this warning.\n",
      "  Quantiles=dt.quantile([0.2, 0.4, 0.6, 0.8])\n"
     ]
    }
   ],
   "source": [
    "Quantiles=dt.quantile([0.2, 0.4, 0.6, 0.8])\n",
    "Quantiles=Quantiles.to_dict()"
   ]
  },
  {
   "cell_type": "code",
   "execution_count": 14,
   "id": "c38948af",
   "metadata": {},
   "outputs": [],
   "source": [
    "def RFM(x,VAR):\n",
    "    if VAR == 'Recency':\n",
    "        if    x <= Quantiles[VAR][0.2] :\n",
    "            return 5\n",
    "        elif  x <= Quantiles[VAR][0.4] :\n",
    "            return 4\n",
    "        elif  x <= Quantiles[VAR][0.6]  :\n",
    "            return 3\n",
    "        elif  x <= Quantiles[VAR][0.8] :\n",
    "            return 2\n",
    "        else :\n",
    "            return 1;\n",
    "    \n",
    "    if VAR in ('Monetary' , 'Frequency' , 'MNFR'):\n",
    "        if    x <= Quantiles[VAR][0.2] :  \n",
    "            return 1\n",
    "        if    x <= Quantiles[VAR][0.4] :\n",
    "            return 2\n",
    "        elif  x <= Quantiles[VAR][0.6]  :\n",
    "            return 3\n",
    "        elif  x <= Quantiles[VAR][0.8] :\n",
    "            return 4\n",
    "        else :\n",
    "            return 5\n",
    "        \n",
    "        \n"
   ]
  },
  {
   "cell_type": "code",
   "execution_count": 15,
   "id": "c673f645",
   "metadata": {},
   "outputs": [],
   "source": [
    "dt['R']=dt['Recency'].apply({lambda x : RFM(x,'Recency')})\n",
    "dt['F']=dt['Frequency'].apply({lambda x : RFM(x,'Frequency')})\n",
    "dt['M']=dt['Monetary'].apply({lambda x : RFM(x,'Monetary')})\n",
    "dt['MF']=dt['MNFR'].apply({lambda x: RFM(x,'MNFR')})"
   ]
  },
  {
   "cell_type": "markdown",
   "id": "039aa3af",
   "metadata": {},
   "source": [
    "dt['R'] = dt['Recency'].apply(\n",
    "    lambda x: 4 if x <= Quantiles['Recency'][0.25] else \n",
    "              3 if x <= Quantiles['Recency'][0.5] else \n",
    "              2 if x <= Quantiles['Recency'][0.75] else 1\n",
    ")\n",
    "\n",
    "dt['F'] = dt['Frequency'].apply(\n",
    "    lambda x: 1 if x <= Quantiles['Frequency'][0.25] else \n",
    "              2 if x <= Quantiles['Frequency'][0.5] else \n",
    "              3 if x <= Quantiles['Frequency'][0.75] else 4\n",
    ")\n",
    "\n",
    "dt['M'] = dt['Monetary'].apply(\n",
    "    lambda x: 1 if x <= Quantiles['Monetary'][0.25] else \n",
    "              2 if x <= Quantiles['Monetary'][0.5] else \n",
    "              3 if x <= Quantiles['Monetary'][0.75] else 4\n",
    ")\n",
    "\n",
    "dt['Score'] = dt['R'] + dt['F'] + dt['M']\n"
   ]
  },
  {
   "cell_type": "code",
   "execution_count": 16,
   "id": "ac35b89a",
   "metadata": {},
   "outputs": [],
   "source": [
    "def apply_condition(Recency , monetary_frequency):\n",
    "    if Recency  == 5 and monetary_frequency >= 4:\n",
    "        return \"Champions\"\n",
    "    elif Recency  >= 3 and monetary_frequency >= 4:\n",
    "        return \"Loyal Customers\"\n",
    "    elif Recency  >= 4 and monetary_frequency >= 2:\n",
    "        return \"Potential Loyalists\"\n",
    "    elif Recency  == 5 and monetary_frequency == 1:\n",
    "        return \"New Customers\"\n",
    "    elif Recency  == 4 and monetary_frequency == 1:\n",
    "        return \"Promising\"\n",
    "    elif Recency  == 3 and monetary_frequency == 3:\n",
    "        return \"About to Sleep\"\n",
    "    elif Recency  == 3 and monetary_frequency <= 2:\n",
    "        return \"Need Attention\"\n",
    "    elif Recency  <= 2 and monetary_frequency == 5:\n",
    "        return \"Can't Lose Them\"\n",
    "    elif Recency  <= 2 and monetary_frequency >= 3:\n",
    "        return \"At Risk\"\n",
    "    elif Recency  <= 2 and monetary_frequency <= 2:\n",
    "        return \"Hibernating\"\n",
    "    else:\n",
    "        return \"Error\""
   ]
  },
  {
   "cell_type": "code",
   "execution_count": 17,
   "id": "76420f3d",
   "metadata": {},
   "outputs": [],
   "source": [
    "dt['Score']= dt['R']+dt['F']+dt['M']"
   ]
  },
  {
   "cell_type": "code",
   "execution_count": 18,
   "id": "9607884c",
   "metadata": {},
   "outputs": [],
   "source": [
    "dt[\"rfm_segment\"] = dt.apply(lambda row: apply_condition(row[\"R\"], row[\"MF\"]),axis=1)"
   ]
  },
  {
   "cell_type": "code",
   "execution_count": 25,
   "id": "2c3c4c58",
   "metadata": {
    "scrolled": true
   },
   "outputs": [],
   "source": [
    "rfm=dt.groupby(['rfm_segment'])['BILLTOPARTY'].count().reset_index()"
   ]
  },
  {
   "cell_type": "code",
   "execution_count": 27,
   "id": "5f5fa50a",
   "metadata": {},
   "outputs": [],
   "source": [
    "rfm.rename(columns={'BILLTOPARTY':'Customers'},inplace=True)"
   ]
  },
  {
   "cell_type": "code",
   "execution_count": 28,
   "id": "410d9eca",
   "metadata": {},
   "outputs": [],
   "source": [
    "rfm=rfm.sort_values('Customers',ascending=False)"
   ]
  },
  {
   "cell_type": "code",
   "execution_count": 29,
   "id": "b0d27c2b",
   "metadata": {
    "scrolled": false
   },
   "outputs": [
    {
     "data": {
      "image/png": "[encoded data removed]",
      "text/plain": [
       "<Figure size 1000x600 with 1 Axes>"
      ]
     },
     "metadata": {},
     "output_type": "display_data"
    }
   ],
   "source": [
    "plt.figure(figsize=(10, 6))\n",
    "sns.barplot(x='Customers',y='rfm_segment',  data=rfm, order=rfm['rfm_segment'])\n",
    "plt.title('RFM Segments')\n",
    "plt.xlabel('Segment')\n",
    "plt.ylabel('Number of Customers')\n",
    "plt.xticks(rotation=45)\n",
    "plt.show()"
   ]
  },
  {
   "cell_type": "code",
   "execution_count": null,
   "id": "fe31b554",
   "metadata": {},
   "outputs": [],
   "source": []
  }
 ],
 "metadata": {
  "kernelspec": {
   "display_name": "Python 3 (ipykernel)",
   "language": "python",
   "name": "python3"
  },
  "language_info": {
   "codemirror_mode": {
    "name": "ipython",
    "version": 3
   },
   "file_extension": ".py",
   "mimetype": "text/x-python",
   "name": "python",
   "nbconvert_exporter": "python",
   "pygments_lexer": "ipython3",
   "version": "3.11.3"
  }
 },
 "nbformat": 4,
 "nbformat_minor": 5
}
